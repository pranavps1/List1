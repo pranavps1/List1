{
 "cells": [
  {
   "cell_type": "code",
   "execution_count": 1,
   "id": "0532a7bc-e129-4b77-a72c-6e0b852fce4d",
   "metadata": {},
   "outputs": [],
   "source": [
    "x=[10,21,31,17,22,30,29,6,55,99]"
   ]
  },
  {
   "cell_type": "code",
   "execution_count": 2,
   "id": "b9f98379-57e3-4624-ad14-cf3075f3e8d3",
   "metadata": {},
   "outputs": [
    {
     "data": {
      "text/plain": [
       "list"
      ]
     },
     "execution_count": 2,
     "metadata": {},
     "output_type": "execute_result"
    }
   ],
   "source": [
    "type(x)"
   ]
  },
  {
   "cell_type": "code",
   "execution_count": 3,
   "id": "f765078e-b289-44d2-b35a-9017fc6471b7",
   "metadata": {},
   "outputs": [
    {
     "data": {
      "text/plain": [
       "10"
      ]
     },
     "execution_count": 3,
     "metadata": {},
     "output_type": "execute_result"
    }
   ],
   "source": [
    "x[0]"
   ]
  },
  {
   "cell_type": "code",
   "execution_count": 5,
   "id": "4afdf22b-2ecf-4a71-95bf-25b5b2985b8c",
   "metadata": {},
   "outputs": [
    {
     "data": {
      "text/plain": [
       "21"
      ]
     },
     "execution_count": 5,
     "metadata": {},
     "output_type": "execute_result"
    }
   ],
   "source": [
    "x[1]"
   ]
  },
  {
   "cell_type": "code",
   "execution_count": 7,
   "id": "8d8e7f71-0c58-4665-ac01-52e6c8931908",
   "metadata": {},
   "outputs": [
    {
     "data": {
      "text/plain": [
       "31"
      ]
     },
     "execution_count": 7,
     "metadata": {},
     "output_type": "execute_result"
    }
   ],
   "source": [
    "x[2]"
   ]
  },
  {
   "cell_type": "code",
   "execution_count": 11,
   "id": "696736d8-5a1f-48ef-b5d5-f9339af976a9",
   "metadata": {},
   "outputs": [
    {
     "data": {
      "text/plain": [
       "17"
      ]
     },
     "execution_count": 11,
     "metadata": {},
     "output_type": "execute_result"
    }
   ],
   "source": [
    "x[3]"
   ]
  },
  {
   "cell_type": "code",
   "execution_count": 10,
   "id": "a00f3cf1-0266-4d3c-882e-5a4450c02e7b",
   "metadata": {},
   "outputs": [
    {
     "data": {
      "text/plain": [
       "22"
      ]
     },
     "execution_count": 10,
     "metadata": {},
     "output_type": "execute_result"
    }
   ],
   "source": [
    "x[4]"
   ]
  },
  {
   "cell_type": "code",
   "execution_count": 12,
   "id": "984dcf19-68fe-421a-927c-4285d57d8486",
   "metadata": {},
   "outputs": [
    {
     "data": {
      "text/plain": [
       "[10]"
      ]
     },
     "execution_count": 12,
     "metadata": {},
     "output_type": "execute_result"
    }
   ],
   "source": [
    "x[0:1]"
   ]
  },
  {
   "cell_type": "code",
   "execution_count": 13,
   "id": "bef65e0c-11fb-43ec-ba9c-f9f9038e6c65",
   "metadata": {},
   "outputs": [
    {
     "data": {
      "text/plain": [
       "[10, 21]"
      ]
     },
     "execution_count": 13,
     "metadata": {},
     "output_type": "execute_result"
    }
   ],
   "source": [
    "x[0:2]"
   ]
  },
  {
   "cell_type": "code",
   "execution_count": 14,
   "id": "51b98418-3b56-45d2-92ab-6ebb9f1e52a4",
   "metadata": {},
   "outputs": [
    {
     "data": {
      "text/plain": [
       "[10, 21, 31]"
      ]
     },
     "execution_count": 14,
     "metadata": {},
     "output_type": "execute_result"
    }
   ],
   "source": [
    "x[0:3]"
   ]
  },
  {
   "cell_type": "code",
   "execution_count": 15,
   "id": "9ed83be6-4892-4682-9644-b7e641f8fcc1",
   "metadata": {},
   "outputs": [
    {
     "data": {
      "text/plain": [
       "[10, 21, 31, 17]"
      ]
     },
     "execution_count": 15,
     "metadata": {},
     "output_type": "execute_result"
    }
   ],
   "source": [
    "x[0:4]\n"
   ]
  },
  {
   "cell_type": "code",
   "execution_count": 16,
   "id": "a67efbe3-001c-4e13-8250-a575403e4484",
   "metadata": {},
   "outputs": [
    {
     "data": {
      "text/plain": [
       "[10, 21, 31, 17, 22, 30, 29, 6, 55, 99]"
      ]
     },
     "execution_count": 16,
     "metadata": {},
     "output_type": "execute_result"
    }
   ],
   "source": [
    "x[0:10]"
   ]
  },
  {
   "cell_type": "code",
   "execution_count": 17,
   "id": "c7186463-5e45-41fd-8126-b051dc516589",
   "metadata": {},
   "outputs": [
    {
     "data": {
      "text/plain": [
       "[29, 6, 55, 99]"
      ]
     },
     "execution_count": 17,
     "metadata": {},
     "output_type": "execute_result"
    }
   ],
   "source": [
    "x[6:10]"
   ]
  },
  {
   "cell_type": "code",
   "execution_count": 18,
   "id": "50fbf995-f156-4e9d-92c1-8dd7f7dd56c2",
   "metadata": {},
   "outputs": [
    {
     "data": {
      "text/plain": [
       "99"
      ]
     },
     "execution_count": 18,
     "metadata": {},
     "output_type": "execute_result"
    }
   ],
   "source": [
    "x[-1]"
   ]
  },
  {
   "cell_type": "code",
   "execution_count": 19,
   "id": "d8404455-dac5-42ad-97dc-683ae6745323",
   "metadata": {},
   "outputs": [
    {
     "data": {
      "text/plain": [
       "6"
      ]
     },
     "execution_count": 19,
     "metadata": {},
     "output_type": "execute_result"
    }
   ],
   "source": [
    "x[-3]"
   ]
  },
  {
   "cell_type": "code",
   "execution_count": 32,
   "id": "1cc95d9e-f4c6-4f6e-8b3f-d52a4ea49390",
   "metadata": {},
   "outputs": [
    {
     "data": {
      "text/plain": [
       "[31, 17, 22, 30, 29, 6, 55, 99]"
      ]
     },
     "execution_count": 32,
     "metadata": {},
     "output_type": "execute_result"
    }
   ],
   "source": [
    "x[2:]"
   ]
  },
  {
   "cell_type": "code",
   "execution_count": 34,
   "id": "39348544-0171-4e94-bcc3-0da4ef6f6289",
   "metadata": {},
   "outputs": [
    {
     "data": {
      "text/plain": [
       "[29, 6, 55, 99]"
      ]
     },
     "execution_count": 34,
     "metadata": {},
     "output_type": "execute_result"
    }
   ],
   "source": [
    "x[6:]"
   ]
  },
  {
   "cell_type": "code",
   "execution_count": 41,
   "id": "2225c2d2-2e97-4879-bf68-7ca026c1cc87",
   "metadata": {},
   "outputs": [
    {
     "data": {
      "text/plain": [
       "[10, 21, 31, 17]"
      ]
     },
     "execution_count": 41,
     "metadata": {},
     "output_type": "execute_result"
    }
   ],
   "source": [
    "x[:4]"
   ]
  },
  {
   "cell_type": "code",
   "execution_count": 52,
   "id": "867791aa-49ed-4068-895a-526b9d7bd5f0",
   "metadata": {},
   "outputs": [],
   "source": [
    "x=[11,30,31,17,99,22,10,50,44,88]\n",
    "x.sort()"
   ]
  },
  {
   "cell_type": "code",
   "execution_count": 53,
   "id": "5634a8d6-2ae4-4a41-87fa-c70d928985e1",
   "metadata": {},
   "outputs": [
    {
     "name": "stdout",
     "output_type": "stream",
     "text": [
      "[10, 11, 17, 22, 30, 31, 44, 50, 88, 99]\n"
     ]
    }
   ],
   "source": [
    "print(x)"
   ]
  },
  {
   "cell_type": "code",
   "execution_count": 55,
   "id": "bf1d3ea9-3c4d-450f-a642-378ee9524cf0",
   "metadata": {},
   "outputs": [],
   "source": [
    "x=[\"kannan\",\"akhil\",\"bharath\",\"yadhu\",\"anu\"]\n",
    "x.sort()"
   ]
  },
  {
   "cell_type": "code",
   "execution_count": 56,
   "id": "79343d05-999a-48ed-82c5-7eda77eceabb",
   "metadata": {},
   "outputs": [
    {
     "name": "stdout",
     "output_type": "stream",
     "text": [
      "['akhil', 'anu', 'bharath', 'kannan', 'yadhu']\n"
     ]
    }
   ],
   "source": [
    "print(x)"
   ]
  },
  {
   "cell_type": "code",
   "execution_count": 57,
   "id": "57866b37-79bf-40df-beac-7756c9bc6688",
   "metadata": {},
   "outputs": [],
   "source": [
    "x.append(\"evlin\")"
   ]
  },
  {
   "cell_type": "code",
   "execution_count": 58,
   "id": "21592f6f-cdd2-4c81-a32b-baf0617ecaf0",
   "metadata": {},
   "outputs": [
    {
     "name": "stdout",
     "output_type": "stream",
     "text": [
      "['akhil', 'anu', 'bharath', 'kannan', 'yadhu', 'evlin']\n"
     ]
    }
   ],
   "source": [
    "print(x)"
   ]
  },
  {
   "cell_type": "code",
   "execution_count": 61,
   "id": "d1b57d16-723f-4e42-8577-c87afc7ec041",
   "metadata": {},
   "outputs": [
    {
     "name": "stdout",
     "output_type": "stream",
     "text": [
      "['sahrdaya', 'anu', 'bharath', 'kannan', 'yadhu', 'evlin']\n"
     ]
    }
   ],
   "source": [
    "x[0]=\"sahrdaya\"\n",
    "print(x)"
   ]
  },
  {
   "cell_type": "code",
   "execution_count": 67,
   "id": "f17fce4b-9e5c-4ace-8782-b43b3159e7c3",
   "metadata": {},
   "outputs": [
    {
     "name": "stdout",
     "output_type": "stream",
     "text": [
      "['sahrdaya', 'anu', 'bharath', 'kannan', 'yadhu', 'mrithul']\n"
     ]
    }
   ],
   "source": [
    "x[5]=\"mrithul\"\n",
    "print(x)"
   ]
  },
  {
   "cell_type": "code",
   "execution_count": 69,
   "id": "b4206b91-bdc8-48a3-9660-69aa6eb84054",
   "metadata": {},
   "outputs": [
    {
     "name": "stdout",
     "output_type": "stream",
     "text": [
      "['sahrdaya', 'anu', 'bharath', 'gilwin', 'gilwin', 'kannan', 'yadhu', 'mrithul']\n"
     ]
    }
   ],
   "source": [
    "x.insert(3,\"gilwin\")\n",
    "print(x)"
   ]
  },
  {
   "cell_type": "code",
   "execution_count": null,
   "id": "51215ce0-f0f3-45f1-ad5e-924e7b67b92e",
   "metadata": {},
   "outputs": [],
   "source": []
  }
 ],
 "metadata": {
  "kernelspec": {
   "display_name": "Python 3 (ipykernel)",
   "language": "python",
   "name": "python3"
  },
  "language_info": {
   "codemirror_mode": {
    "name": "ipython",
    "version": 3
   },
   "file_extension": ".py",
   "mimetype": "text/x-python",
   "name": "python",
   "nbconvert_exporter": "python",
   "pygments_lexer": "ipython3",
   "version": "3.9.12"
  }
 },
 "nbformat": 4,
 "nbformat_minor": 5
}
